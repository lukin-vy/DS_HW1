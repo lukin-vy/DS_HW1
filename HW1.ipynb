{
 "cells": [
  {
   "cell_type": "markdown",
   "id": "63d375a6-d7b9-4fe9-9a52-1b7f7e7672c8",
   "metadata": {},
   "source": [
    "<h1>Python для анализа данных.</h1><h2>Домашняя работа №1</h2>"
   ]
  },
  {
   "cell_type": "code",
   "execution_count": 1,
   "id": "23a0c43c-448f-4198-b6a5-457f70ea245f",
   "metadata": {},
   "outputs": [],
   "source": [
    "#Подключим необходимые библиотеки\n",
    "import numpy as np\n",
    "import pandas as pd"
   ]
  },
  {
   "cell_type": "markdown",
   "id": "ced9b6b6-25dc-4d22-8383-f49d49430fdb",
   "metadata": {},
   "source": [
    "<h3>Содержимое файлов:</h3>"
   ]
  },
  {
   "cell_type": "markdown",
   "id": "56cd9c3d-bb38-4758-b685-cd86d2178373",
   "metadata": {},
   "source": [
    "<b>lectures.csv:</b></br>\n",
    "Метаданные лекций, просмотренных пользователями по мере продвижения своего образования.</br>\n",
    "+ lecture_id - внешний ключ для столбца train/test content_id, когда типом контента является lecture (1);\n",
    "+ part - код категории верхнего уровня для лекции;\n",
    "+ tag - один из тегов содержит коды для лекции. Значение тегов не будет указано, но этих кодов достаточно для объединения лекций в группы;\n",
    "+ type_of - краткое описание основной цели лекции.\n",
    "\n",
    "<hr>\n",
    "<b>questions.csv:</b></br>\n",
    "Метаданные для ответов на вопросы, задаваемые пользователям.</br>\n",
    "\n",
    "+ question_id - внешний ключ для столбца train/test content_id, когда типом контента является question (0);\n",
    "+ bundle_id - код, по которому вопросы подаются вместе;\n",
    "+ correct_answer - Ответ на вопрос. Можно сравнить со столбцом train user_answer, чтобы проверить, был ли пользователь прав;\n",
    "+ part - соответствующий раздел теста TOEIC;\n",
    "+ tags - один или несколько подробных кодов тегов для вопроса. Значение тегов не будет указано, но этих кодов достаточно для объединения вопросов в группы\n",
    "\n",
    "<hr>\n",
    "<b>train.csv:</b></br>\n",
    "Метаданные для ответов на вопросы, задаваемые пользователям.</br>\n",
    "\n",
    "+ row_id - идентификационный код для строки;\n",
    "+ timestamp - время в миллисекундах между этим взаимодействием пользователя и завершением первого события от этого пользователя;\n",
    "+ user_id - идентификационный код пользователя\n",
    "+ content_type_id - 0, если событием был вопрос, заданный пользователю, 1, если событием был просмотр пользователем лекции;\n",
    "+ task_container_id - идентификационный код для набора вопросов или лекций;\n",
    "+ user_answer - ответ пользователя на вопрос, если таковой имеется. Считайте -1 как null, для лекций;\n",
    "+ answered_correctly - если пользователь ответил правильно. Считайте -1 как null, для лекций;\n",
    "+ prior_question_elapsed_time - среднее время, затраченное пользователем на решение каждого вопроса из предыдущего набора;\n",
    "+ prior_question_had_explanation - Независимо от того, видел ли пользователь объяснение и правильный ответ (ы) после ответа на предыдущий набор вопросов, игнорируя любые лекции между ними.\n"
   ]
  },
  {
   "cell_type": "code",
   "execution_count": 2,
   "id": "20f7f0b9-96fb-4880-97be-e1d3876e31ee",
   "metadata": {},
   "outputs": [
    {
     "data": {
      "text/html": [
       "<div>\n",
       "<style scoped>\n",
       "    .dataframe tbody tr th:only-of-type {\n",
       "        vertical-align: middle;\n",
       "    }\n",
       "\n",
       "    .dataframe tbody tr th {\n",
       "        vertical-align: top;\n",
       "    }\n",
       "\n",
       "    .dataframe thead th {\n",
       "        text-align: right;\n",
       "    }\n",
       "</style>\n",
       "<table border=\"1\" class=\"dataframe\">\n",
       "  <thead>\n",
       "    <tr style=\"text-align: right;\">\n",
       "      <th></th>\n",
       "      <th>question_id</th>\n",
       "      <th>bundle_id</th>\n",
       "      <th>correct_answer</th>\n",
       "      <th>part</th>\n",
       "      <th>tags</th>\n",
       "    </tr>\n",
       "  </thead>\n",
       "  <tbody>\n",
       "    <tr>\n",
       "      <th>0</th>\n",
       "      <td>0</td>\n",
       "      <td>0</td>\n",
       "      <td>0</td>\n",
       "      <td>1</td>\n",
       "      <td>51 131 162 38</td>\n",
       "    </tr>\n",
       "    <tr>\n",
       "      <th>1</th>\n",
       "      <td>1</td>\n",
       "      <td>1</td>\n",
       "      <td>1</td>\n",
       "      <td>1</td>\n",
       "      <td>131 36 81</td>\n",
       "    </tr>\n",
       "    <tr>\n",
       "      <th>2</th>\n",
       "      <td>2</td>\n",
       "      <td>2</td>\n",
       "      <td>0</td>\n",
       "      <td>1</td>\n",
       "      <td>131 101 162 92</td>\n",
       "    </tr>\n",
       "    <tr>\n",
       "      <th>3</th>\n",
       "      <td>3</td>\n",
       "      <td>3</td>\n",
       "      <td>0</td>\n",
       "      <td>1</td>\n",
       "      <td>131 149 162 29</td>\n",
       "    </tr>\n",
       "    <tr>\n",
       "      <th>4</th>\n",
       "      <td>4</td>\n",
       "      <td>4</td>\n",
       "      <td>3</td>\n",
       "      <td>1</td>\n",
       "      <td>131 5 162 38</td>\n",
       "    </tr>\n",
       "  </tbody>\n",
       "</table>\n",
       "</div>"
      ],
      "text/plain": [
       "   question_id  bundle_id  correct_answer  part            tags\n",
       "0            0          0               0     1   51 131 162 38\n",
       "1            1          1               1     1       131 36 81\n",
       "2            2          2               0     1  131 101 162 92\n",
       "3            3          3               0     1  131 149 162 29\n",
       "4            4          4               3     1    131 5 162 38"
      ]
     },
     "metadata": {},
     "output_type": "display_data"
    },
    {
     "data": {
      "text/html": [
       "<div>\n",
       "<style scoped>\n",
       "    .dataframe tbody tr th:only-of-type {\n",
       "        vertical-align: middle;\n",
       "    }\n",
       "\n",
       "    .dataframe tbody tr th {\n",
       "        vertical-align: top;\n",
       "    }\n",
       "\n",
       "    .dataframe thead th {\n",
       "        text-align: right;\n",
       "    }\n",
       "</style>\n",
       "<table border=\"1\" class=\"dataframe\">\n",
       "  <thead>\n",
       "    <tr style=\"text-align: right;\">\n",
       "      <th></th>\n",
       "      <th>question_id</th>\n",
       "      <th>bundle_id</th>\n",
       "      <th>correct_answer</th>\n",
       "      <th>part</th>\n",
       "      <th>tags</th>\n",
       "    </tr>\n",
       "  </thead>\n",
       "  <tbody>\n",
       "    <tr>\n",
       "      <th>13518</th>\n",
       "      <td>13518</td>\n",
       "      <td>13518</td>\n",
       "      <td>3</td>\n",
       "      <td>5</td>\n",
       "      <td>14</td>\n",
       "    </tr>\n",
       "    <tr>\n",
       "      <th>13519</th>\n",
       "      <td>13519</td>\n",
       "      <td>13519</td>\n",
       "      <td>3</td>\n",
       "      <td>5</td>\n",
       "      <td>8</td>\n",
       "    </tr>\n",
       "    <tr>\n",
       "      <th>13520</th>\n",
       "      <td>13520</td>\n",
       "      <td>13520</td>\n",
       "      <td>2</td>\n",
       "      <td>5</td>\n",
       "      <td>73</td>\n",
       "    </tr>\n",
       "    <tr>\n",
       "      <th>13521</th>\n",
       "      <td>13521</td>\n",
       "      <td>13521</td>\n",
       "      <td>0</td>\n",
       "      <td>5</td>\n",
       "      <td>125</td>\n",
       "    </tr>\n",
       "    <tr>\n",
       "      <th>13522</th>\n",
       "      <td>13522</td>\n",
       "      <td>13522</td>\n",
       "      <td>3</td>\n",
       "      <td>5</td>\n",
       "      <td>55</td>\n",
       "    </tr>\n",
       "  </tbody>\n",
       "</table>\n",
       "</div>"
      ],
      "text/plain": [
       "       question_id  bundle_id  correct_answer  part tags\n",
       "13518        13518      13518               3     5   14\n",
       "13519        13519      13519               3     5    8\n",
       "13520        13520      13520               2     5   73\n",
       "13521        13521      13521               0     5  125\n",
       "13522        13522      13522               3     5   55"
      ]
     },
     "metadata": {},
     "output_type": "display_data"
    }
   ],
   "source": [
    "#Загрузим данные questions\n",
    "question_dtypes = {\n",
    "    'question_id': 'int16',\n",
    "    'bundle_id': 'uint16',\n",
    "    'correct_answer': 'int8',\n",
    "    'part': 'uint8',\n",
    "}\n",
    "\n",
    "questions = pd.read_csv('questions.csv', dtype=question_dtypes)\n",
    "\n",
    "#Выведем первые и последние 5 строк\n",
    "display(questions.head())\n",
    "display(questions.tail())"
   ]
  },
  {
   "cell_type": "code",
   "execution_count": 105,
   "id": "10461620-38fc-4c0b-9fa5-4b5bcfe55bcd",
   "metadata": {},
   "outputs": [
    {
     "data": {
      "text/html": [
       "<div>\n",
       "<style scoped>\n",
       "    .dataframe tbody tr th:only-of-type {\n",
       "        vertical-align: middle;\n",
       "    }\n",
       "\n",
       "    .dataframe tbody tr th {\n",
       "        vertical-align: top;\n",
       "    }\n",
       "\n",
       "    .dataframe thead th {\n",
       "        text-align: right;\n",
       "    }\n",
       "</style>\n",
       "<table border=\"1\" class=\"dataframe\">\n",
       "  <thead>\n",
       "    <tr style=\"text-align: right;\">\n",
       "      <th></th>\n",
       "      <th>lecture_id</th>\n",
       "      <th>tag</th>\n",
       "      <th>part</th>\n",
       "      <th>type_of</th>\n",
       "    </tr>\n",
       "  </thead>\n",
       "  <tbody>\n",
       "    <tr>\n",
       "      <th>0</th>\n",
       "      <td>89</td>\n",
       "      <td>159</td>\n",
       "      <td>5</td>\n",
       "      <td>concept</td>\n",
       "    </tr>\n",
       "    <tr>\n",
       "      <th>1</th>\n",
       "      <td>100</td>\n",
       "      <td>70</td>\n",
       "      <td>1</td>\n",
       "      <td>concept</td>\n",
       "    </tr>\n",
       "    <tr>\n",
       "      <th>2</th>\n",
       "      <td>185</td>\n",
       "      <td>45</td>\n",
       "      <td>6</td>\n",
       "      <td>concept</td>\n",
       "    </tr>\n",
       "    <tr>\n",
       "      <th>3</th>\n",
       "      <td>192</td>\n",
       "      <td>79</td>\n",
       "      <td>5</td>\n",
       "      <td>solving question</td>\n",
       "    </tr>\n",
       "    <tr>\n",
       "      <th>4</th>\n",
       "      <td>317</td>\n",
       "      <td>156</td>\n",
       "      <td>5</td>\n",
       "      <td>solving question</td>\n",
       "    </tr>\n",
       "  </tbody>\n",
       "</table>\n",
       "</div>"
      ],
      "text/plain": [
       "   lecture_id  tag  part           type_of\n",
       "0          89  159     5           concept\n",
       "1         100   70     1           concept\n",
       "2         185   45     6           concept\n",
       "3         192   79     5  solving question\n",
       "4         317  156     5  solving question"
      ]
     },
     "metadata": {},
     "output_type": "display_data"
    },
    {
     "data": {
      "text/html": [
       "<div>\n",
       "<style scoped>\n",
       "    .dataframe tbody tr th:only-of-type {\n",
       "        vertical-align: middle;\n",
       "    }\n",
       "\n",
       "    .dataframe tbody tr th {\n",
       "        vertical-align: top;\n",
       "    }\n",
       "\n",
       "    .dataframe thead th {\n",
       "        text-align: right;\n",
       "    }\n",
       "</style>\n",
       "<table border=\"1\" class=\"dataframe\">\n",
       "  <thead>\n",
       "    <tr style=\"text-align: right;\">\n",
       "      <th></th>\n",
       "      <th>lecture_id</th>\n",
       "      <th>tag</th>\n",
       "      <th>part</th>\n",
       "      <th>type_of</th>\n",
       "    </tr>\n",
       "  </thead>\n",
       "  <tbody>\n",
       "    <tr>\n",
       "      <th>413</th>\n",
       "      <td>32535</td>\n",
       "      <td>8</td>\n",
       "      <td>5</td>\n",
       "      <td>solving question</td>\n",
       "    </tr>\n",
       "    <tr>\n",
       "      <th>414</th>\n",
       "      <td>32570</td>\n",
       "      <td>113</td>\n",
       "      <td>3</td>\n",
       "      <td>solving question</td>\n",
       "    </tr>\n",
       "    <tr>\n",
       "      <th>415</th>\n",
       "      <td>32604</td>\n",
       "      <td>24</td>\n",
       "      <td>6</td>\n",
       "      <td>concept</td>\n",
       "    </tr>\n",
       "    <tr>\n",
       "      <th>416</th>\n",
       "      <td>32625</td>\n",
       "      <td>142</td>\n",
       "      <td>2</td>\n",
       "      <td>concept</td>\n",
       "    </tr>\n",
       "    <tr>\n",
       "      <th>417</th>\n",
       "      <td>32736</td>\n",
       "      <td>82</td>\n",
       "      <td>3</td>\n",
       "      <td>concept</td>\n",
       "    </tr>\n",
       "  </tbody>\n",
       "</table>\n",
       "</div>"
      ],
      "text/plain": [
       "     lecture_id  tag  part           type_of\n",
       "413       32535    8     5  solving question\n",
       "414       32570  113     3  solving question\n",
       "415       32604   24     6           concept\n",
       "416       32625  142     2           concept\n",
       "417       32736   82     3           concept"
      ]
     },
     "metadata": {},
     "output_type": "display_data"
    }
   ],
   "source": [
    "#Загрузим данные lectures\n",
    "lectures_dtypes = {\n",
    "    'lecture_id': 'int64',\n",
    "    'tag': 'uint16',\n",
    "    'part': 'uint8',\n",
    "}\n",
    "\n",
    "lectures = pd.read_csv('lectures.csv', dtype=lectures_dtypes)\n",
    "\n",
    "#Выведем первые и последние 5 строк\n",
    "display(lectures.head())\n",
    "display(lectures.tail())"
   ]
  },
  {
   "cell_type": "code",
   "execution_count": 4,
   "id": "6b475d92-68f2-450b-9cd4-be4bd3c51118",
   "metadata": {},
   "outputs": [
    {
     "data": {
      "text/html": [
       "<div>\n",
       "<style scoped>\n",
       "    .dataframe tbody tr th:only-of-type {\n",
       "        vertical-align: middle;\n",
       "    }\n",
       "\n",
       "    .dataframe tbody tr th {\n",
       "        vertical-align: top;\n",
       "    }\n",
       "\n",
       "    .dataframe thead th {\n",
       "        text-align: right;\n",
       "    }\n",
       "</style>\n",
       "<table border=\"1\" class=\"dataframe\">\n",
       "  <thead>\n",
       "    <tr style=\"text-align: right;\">\n",
       "      <th></th>\n",
       "      <th>row_id</th>\n",
       "      <th>timestamp</th>\n",
       "      <th>user_id</th>\n",
       "      <th>content_id</th>\n",
       "      <th>content_type_id</th>\n",
       "      <th>task_container_id</th>\n",
       "      <th>user_answer</th>\n",
       "      <th>answered_correctly</th>\n",
       "      <th>prior_question_elapsed_time</th>\n",
       "      <th>prior_question_had_explanation</th>\n",
       "    </tr>\n",
       "  </thead>\n",
       "  <tbody>\n",
       "    <tr>\n",
       "      <th>0</th>\n",
       "      <td>0</td>\n",
       "      <td>0</td>\n",
       "      <td>115</td>\n",
       "      <td>5692</td>\n",
       "      <td>False</td>\n",
       "      <td>1</td>\n",
       "      <td>3</td>\n",
       "      <td>1</td>\n",
       "      <td>NaN</td>\n",
       "      <td>&lt;NA&gt;</td>\n",
       "    </tr>\n",
       "    <tr>\n",
       "      <th>1</th>\n",
       "      <td>1</td>\n",
       "      <td>56943</td>\n",
       "      <td>115</td>\n",
       "      <td>5716</td>\n",
       "      <td>False</td>\n",
       "      <td>2</td>\n",
       "      <td>2</td>\n",
       "      <td>1</td>\n",
       "      <td>37000.0</td>\n",
       "      <td>False</td>\n",
       "    </tr>\n",
       "    <tr>\n",
       "      <th>2</th>\n",
       "      <td>2</td>\n",
       "      <td>118363</td>\n",
       "      <td>115</td>\n",
       "      <td>128</td>\n",
       "      <td>False</td>\n",
       "      <td>0</td>\n",
       "      <td>0</td>\n",
       "      <td>1</td>\n",
       "      <td>55000.0</td>\n",
       "      <td>False</td>\n",
       "    </tr>\n",
       "    <tr>\n",
       "      <th>3</th>\n",
       "      <td>3</td>\n",
       "      <td>131167</td>\n",
       "      <td>115</td>\n",
       "      <td>7860</td>\n",
       "      <td>False</td>\n",
       "      <td>3</td>\n",
       "      <td>0</td>\n",
       "      <td>1</td>\n",
       "      <td>19000.0</td>\n",
       "      <td>False</td>\n",
       "    </tr>\n",
       "    <tr>\n",
       "      <th>4</th>\n",
       "      <td>4</td>\n",
       "      <td>137965</td>\n",
       "      <td>115</td>\n",
       "      <td>7922</td>\n",
       "      <td>False</td>\n",
       "      <td>4</td>\n",
       "      <td>1</td>\n",
       "      <td>1</td>\n",
       "      <td>11000.0</td>\n",
       "      <td>False</td>\n",
       "    </tr>\n",
       "  </tbody>\n",
       "</table>\n",
       "</div>"
      ],
      "text/plain": [
       "   row_id  timestamp  user_id  content_id  content_type_id  task_container_id  \\\n",
       "0       0          0      115        5692            False                  1   \n",
       "1       1      56943      115        5716            False                  2   \n",
       "2       2     118363      115         128            False                  0   \n",
       "3       3     131167      115        7860            False                  3   \n",
       "4       4     137965      115        7922            False                  4   \n",
       "\n",
       "   user_answer  answered_correctly  prior_question_elapsed_time  \\\n",
       "0            3                   1                          NaN   \n",
       "1            2                   1                      37000.0   \n",
       "2            0                   1                      55000.0   \n",
       "3            0                   1                      19000.0   \n",
       "4            1                   1                      11000.0   \n",
       "\n",
       "   prior_question_had_explanation  \n",
       "0                            <NA>  \n",
       "1                           False  \n",
       "2                           False  \n",
       "3                           False  \n",
       "4                           False  "
      ]
     },
     "metadata": {},
     "output_type": "display_data"
    },
    {
     "data": {
      "text/html": [
       "<div>\n",
       "<style scoped>\n",
       "    .dataframe tbody tr th:only-of-type {\n",
       "        vertical-align: middle;\n",
       "    }\n",
       "\n",
       "    .dataframe tbody tr th {\n",
       "        vertical-align: top;\n",
       "    }\n",
       "\n",
       "    .dataframe thead th {\n",
       "        text-align: right;\n",
       "    }\n",
       "</style>\n",
       "<table border=\"1\" class=\"dataframe\">\n",
       "  <thead>\n",
       "    <tr style=\"text-align: right;\">\n",
       "      <th></th>\n",
       "      <th>row_id</th>\n",
       "      <th>timestamp</th>\n",
       "      <th>user_id</th>\n",
       "      <th>content_id</th>\n",
       "      <th>content_type_id</th>\n",
       "      <th>task_container_id</th>\n",
       "      <th>user_answer</th>\n",
       "      <th>answered_correctly</th>\n",
       "      <th>prior_question_elapsed_time</th>\n",
       "      <th>prior_question_had_explanation</th>\n",
       "    </tr>\n",
       "  </thead>\n",
       "  <tbody>\n",
       "    <tr>\n",
       "      <th>101230327</th>\n",
       "      <td>101230327</td>\n",
       "      <td>428564420</td>\n",
       "      <td>2147482888</td>\n",
       "      <td>3586</td>\n",
       "      <td>False</td>\n",
       "      <td>22</td>\n",
       "      <td>0</td>\n",
       "      <td>1</td>\n",
       "      <td>18000.0</td>\n",
       "      <td>True</td>\n",
       "    </tr>\n",
       "    <tr>\n",
       "      <th>101230328</th>\n",
       "      <td>101230328</td>\n",
       "      <td>428585000</td>\n",
       "      <td>2147482888</td>\n",
       "      <td>6341</td>\n",
       "      <td>False</td>\n",
       "      <td>23</td>\n",
       "      <td>3</td>\n",
       "      <td>1</td>\n",
       "      <td>14000.0</td>\n",
       "      <td>True</td>\n",
       "    </tr>\n",
       "    <tr>\n",
       "      <th>101230329</th>\n",
       "      <td>101230329</td>\n",
       "      <td>428613475</td>\n",
       "      <td>2147482888</td>\n",
       "      <td>4212</td>\n",
       "      <td>False</td>\n",
       "      <td>24</td>\n",
       "      <td>3</td>\n",
       "      <td>1</td>\n",
       "      <td>14000.0</td>\n",
       "      <td>True</td>\n",
       "    </tr>\n",
       "    <tr>\n",
       "      <th>101230330</th>\n",
       "      <td>101230330</td>\n",
       "      <td>428649406</td>\n",
       "      <td>2147482888</td>\n",
       "      <td>6343</td>\n",
       "      <td>False</td>\n",
       "      <td>25</td>\n",
       "      <td>1</td>\n",
       "      <td>0</td>\n",
       "      <td>22000.0</td>\n",
       "      <td>True</td>\n",
       "    </tr>\n",
       "    <tr>\n",
       "      <th>101230331</th>\n",
       "      <td>101230331</td>\n",
       "      <td>428692118</td>\n",
       "      <td>2147482888</td>\n",
       "      <td>7995</td>\n",
       "      <td>False</td>\n",
       "      <td>26</td>\n",
       "      <td>3</td>\n",
       "      <td>1</td>\n",
       "      <td>29000.0</td>\n",
       "      <td>True</td>\n",
       "    </tr>\n",
       "  </tbody>\n",
       "</table>\n",
       "</div>"
      ],
      "text/plain": [
       "              row_id  timestamp     user_id  content_id  content_type_id  \\\n",
       "101230327  101230327  428564420  2147482888        3586            False   \n",
       "101230328  101230328  428585000  2147482888        6341            False   \n",
       "101230329  101230329  428613475  2147482888        4212            False   \n",
       "101230330  101230330  428649406  2147482888        6343            False   \n",
       "101230331  101230331  428692118  2147482888        7995            False   \n",
       "\n",
       "           task_container_id  user_answer  answered_correctly  \\\n",
       "101230327                 22            0                   1   \n",
       "101230328                 23            3                   1   \n",
       "101230329                 24            3                   1   \n",
       "101230330                 25            1                   0   \n",
       "101230331                 26            3                   1   \n",
       "\n",
       "           prior_question_elapsed_time  prior_question_had_explanation  \n",
       "101230327                      18000.0                            True  \n",
       "101230328                      14000.0                            True  \n",
       "101230329                      14000.0                            True  \n",
       "101230330                      22000.0                            True  \n",
       "101230331                      29000.0                            True  "
      ]
     },
     "metadata": {},
     "output_type": "display_data"
    }
   ],
   "source": [
    "#Загрузим данные train\n",
    "#Опишем словарь с типами данных для DataFrame\n",
    "train_dtypes = {\n",
    "    \"row_id\": \"int64\",\n",
    "    \"timestamp\": \"int64\",\n",
    "    \"user_id\": \"int32\",\n",
    "    \"content_id\": \"int16\",\n",
    "    \"content_type_id\": \"boolean\",\n",
    "    \"task_container_id\": \"int16\",\n",
    "    \"user_answer\": \"int8\",\n",
    "    \"answered_correctly\": \"int8\",\n",
    "    \"prior_question_elapsed_time\": \"float32\", \n",
    "    \"prior_question_had_explanation\": \"boolean\"\n",
    "}\n",
    "#Создадим список в котором будут части DataFrame train\n",
    "train_parts_list = list()\n",
    "\n",
    "#Так как файл слишком большой, будем читать частями и полученные части записывать в список\n",
    "for chunck in pd.read_csv('train.csv', dtype=train_dtypes, chunksize = 500000):\n",
    "    #Запишем в список кусок DataFrame train\n",
    "    train_parts_list.append(chunck)\n",
    "\n",
    "#Из частей DataFrame соберем единый DataFrame train\n",
    "train = pd.concat(train_parts_list, ignore_index=True)\n",
    "\n",
    "#Освободим память списка\n",
    "train_parts_list = list()\n",
    "\n",
    "#Выведем первые и последние 5 строк\n",
    "display(train.head())\n",
    "display(train.tail())"
   ]
  },
  {
   "cell_type": "markdown",
   "id": "1394d02f-4173-41cf-811a-5d36ac9d04fb",
   "metadata": {},
   "source": [
    "Получим информацию о таблице questions"
   ]
  },
  {
   "cell_type": "code",
   "execution_count": 5,
   "id": "0984d7dc-9848-413d-98bb-7eacb6f74e3c",
   "metadata": {},
   "outputs": [
    {
     "name": "stdout",
     "output_type": "stream",
     "text": [
      "<class 'pandas.core.frame.DataFrame'>\n",
      "RangeIndex: 13523 entries, 0 to 13522\n",
      "Data columns (total 5 columns):\n",
      " #   Column          Non-Null Count  Dtype \n",
      "---  ------          --------------  ----- \n",
      " 0   question_id     13523 non-null  int16 \n",
      " 1   bundle_id       13523 non-null  uint16\n",
      " 2   correct_answer  13523 non-null  int8  \n",
      " 3   part            13523 non-null  uint8 \n",
      " 4   tags            13522 non-null  object\n",
      "dtypes: int16(1), int8(1), object(1), uint16(1), uint8(1)\n",
      "memory usage: 185.0+ KB\n"
     ]
    }
   ],
   "source": [
    "questions.info()"
   ]
  },
  {
   "cell_type": "markdown",
   "id": "c1bf8c9c-263a-4a3e-a797-f2aeb928ce2a",
   "metadata": {},
   "source": [
    "Из данной информации видно:</br>\n",
    "\n",
    "+ Общее количество строк 13 523\n",
    "+ Общее количество полей 5\n",
    "+ Объем занимаемой памяти 528.4 KB\n",
    "+ В поле tags пропущено 1 значение"
   ]
  },
  {
   "cell_type": "code",
   "execution_count": 6,
   "id": "53659903-ae9d-4149-92d0-fdf023f12483",
   "metadata": {},
   "outputs": [
    {
     "name": "stdout",
     "output_type": "stream",
     "text": [
      "       question_id  bundle_id  correct_answer  part tags\n",
      "10033        10033      10033               2     6  NaN\n"
     ]
    }
   ],
   "source": [
    "print(questions[pd.isnull(questions).any(axis=1)])"
   ]
  },
  {
   "cell_type": "markdown",
   "id": "68b20d5a-c8db-414f-85f5-7d0c1bf20646",
   "metadata": {},
   "source": [
    "<hr>\n",
    "Получим информацию о таблице lectures"
   ]
  },
  {
   "cell_type": "code",
   "execution_count": 7,
   "id": "b90c648f-f593-4e4f-a7e2-4fcad0fd45c6",
   "metadata": {},
   "outputs": [
    {
     "name": "stdout",
     "output_type": "stream",
     "text": [
      "<class 'pandas.core.frame.DataFrame'>\n",
      "RangeIndex: 418 entries, 0 to 417\n",
      "Data columns (total 4 columns):\n",
      " #   Column      Non-Null Count  Dtype \n",
      "---  ------      --------------  ----- \n",
      " 0   lecture_id  418 non-null    uint32\n",
      " 1   tag         418 non-null    uint16\n",
      " 2   part        418 non-null    uint8 \n",
      " 3   type_of     418 non-null    object\n",
      "dtypes: object(1), uint16(1), uint32(1), uint8(1)\n",
      "memory usage: 6.3+ KB\n"
     ]
    }
   ],
   "source": [
    "lectures.info()"
   ]
  },
  {
   "cell_type": "markdown",
   "id": "50fc082a-dd44-41b1-a9fe-90b5e6373b08",
   "metadata": {},
   "source": [
    "Из данной информации видно:</br>\n",
    "\n",
    "+ Общее количество строк 418\n",
    "+ Общее количество полей 4\n",
    "+ Объем занимаемой памяти 13.2 KB\n",
    "+ Нет пропущенных значений"
   ]
  },
  {
   "cell_type": "markdown",
   "id": "61e7ca3a-a6a1-450f-913e-76e4f8fece28",
   "metadata": {},
   "source": [
    "<HR>\n",
    "Получим информацию о таблице train"
   ]
  },
  {
   "cell_type": "code",
   "execution_count": 8,
   "id": "fa91eed9-5d2e-4be2-93b9-08a41541d9fb",
   "metadata": {},
   "outputs": [
    {
     "name": "stdout",
     "output_type": "stream",
     "text": [
      "<class 'pandas.core.frame.DataFrame'>\n",
      "RangeIndex: 101230332 entries, 0 to 101230331\n",
      "Data columns (total 10 columns):\n",
      " #   Column                          Dtype  \n",
      "---  ------                          -----  \n",
      " 0   row_id                          int64  \n",
      " 1   timestamp                       int64  \n",
      " 2   user_id                         int32  \n",
      " 3   content_id                      int16  \n",
      " 4   content_type_id                 boolean\n",
      " 5   task_container_id               int16  \n",
      " 6   user_answer                     int8   \n",
      " 7   answered_correctly              int8   \n",
      " 8   prior_question_elapsed_time     float32\n",
      " 9   prior_question_had_explanation  boolean\n",
      "dtypes: boolean(2), float32(1), int16(2), int32(1), int64(2), int8(2)\n",
      "memory usage: 3.2 GB\n"
     ]
    }
   ],
   "source": [
    "train.info()"
   ]
  },
  {
   "cell_type": "markdown",
   "id": "892fd69a-0347-4250-93f8-8f68738f293a",
   "metadata": {},
   "source": [
    "Из данной информации видно:</br>\n",
    "\n",
    "+ Общее количество строк 101 230 332\n",
    "+ Общее количество полей 10\n",
    "+ Объем занимаемой памяти 3.2 GB\n",
    "+ Сведения о пропущенных значениях не отображено, так как DataFrame слишком велик</br>\n",
    "\n",
    "Посчитаем количество пропиущенных значений самостоятельно:"
   ]
  },
  {
   "cell_type": "code",
   "execution_count": 9,
   "id": "5342213f-4ba3-4d86-9e10-eb200f6faa33",
   "metadata": {},
   "outputs": [
    {
     "name": "stdout",
     "output_type": "stream",
     "text": [
      "Количество пропущеных значений в полях:\n",
      "row_id - 0\n",
      "timestamp - 0\n",
      "user_id - 0\n",
      "content_id - 0\n",
      "content_type_id - 0\n",
      "task_container_id - 0\n",
      "user_answer - 0\n",
      "answered_correctly - 0\n",
      "prior_question_elapsed_time - 2351538\n",
      "prior_question_had_explanation - 392506\n"
     ]
    }
   ],
   "source": [
    "print('Количество пропущеных значений в полях:')\n",
    "print('row_id -', sum(train['row_id'].isnull()))\n",
    "print('timestamp -', sum(train['timestamp'].isnull()))\n",
    "print('user_id -', sum(train['user_id'].isnull()))\n",
    "print('content_id -', sum(train['content_id'].isnull()))\n",
    "print('content_type_id -', sum(train['content_type_id'].isnull()))\n",
    "print('task_container_id -', sum(train['task_container_id'].isnull()))\n",
    "print('user_answer -', sum(train['user_answer'].isnull()))\n",
    "print('answered_correctly -', sum(train['answered_correctly'].isnull()))\n",
    "print('prior_question_elapsed_time -', sum(train['prior_question_elapsed_time'].isnull()))\n",
    "print('prior_question_had_explanation -', sum(train['prior_question_had_explanation'].isnull()))"
   ]
  },
  {
   "cell_type": "markdown",
   "id": "39f31420-8882-46cb-824e-c7f8d96a3051",
   "metadata": {},
   "source": [
    "Пропущены значения только в полях prior_question_elapsed_time и prior_question_had_explanation\n",
    "<hr>\n",
    "Проанализируем общий процент правильных ответов:"
   ]
  },
  {
   "cell_type": "code",
   "execution_count": 10,
   "id": "f39f2a81-c8a7-42a1-88f0-a95b44faa9ad",
   "metadata": {},
   "outputs": [],
   "source": [
    "#Получим доли ответов по всему DataFrame\n",
    "correct_answers = train['answered_correctly'].value_counts(normalize=True) * 100\n",
    "#Получим среднее время обучения\n",
    "ts_mean = train['timestamp'].mean()\n",
    "#Получим среднее время затраченное на ответ\n",
    "elapsed_time_mean = train['prior_question_elapsed_time'].mean()"
   ]
  },
  {
   "cell_type": "code",
   "execution_count": 11,
   "id": "c2fda4ff-a347-4d34-b665-f5aa51e18ec7",
   "metadata": {},
   "outputs": [
    {
     "name": "stdout",
     "output_type": "stream",
     "text": [
      "≈ 33.61% неправильных ответа\n",
      "≈ 64.45% правильных ответа\n",
      "≈ 1.94% лекций\n",
      "Среднее время обучения: 89.16 дней\n",
      "Среднее время затраченное на ответ: 25.42 секунд\n"
     ]
    }
   ],
   "source": [
    "print('≈ ', round(correct_answers[0], 2), '% неправильных ответа', sep='')\n",
    "print('≈ ', round(correct_answers[1], 2), '% правильных ответа', sep='')\n",
    "print('≈ ', round(correct_answers[-1], 2), '% лекций', sep='')\n",
    "print('Среднее время обучения:', round(ts_mean / 1000 / 60 / 60 / 24, 2), 'дней')\n",
    "print('Среднее время затраченное на ответ:', round(elapsed_time_mean / 1000, 2), 'секунд')"
   ]
  },
  {
   "cell_type": "markdown",
   "id": "0e517ead-4842-4c48-8273-c07e11bf2c56",
   "metadata": {},
   "source": [
    "На основе данного показателя можно сделать вывод, что в большинстве случаев обучающие отвечают правильно.\n",
    "<hr>\n",
    "Проанализируем количество правильных ответов в зависимости от объяснения лекции"
   ]
  },
  {
   "cell_type": "code",
   "execution_count": 12,
   "id": "af02c8d4-89b5-4655-9b85-d37b1929945a",
   "metadata": {},
   "outputs": [],
   "source": [
    "#Получим доли ответов по DataFrame в зависимости от объяснения лекции\n",
    "#Из answered_correctly исключим -1, так как это лекция и не имеет отношения к ответам и сгруппируем по prior_question_had_explanation\n",
    "explanation = train[train['answered_correctly'] != -1].groupby('prior_question_had_explanation')\n",
    "#Получим долю правильных ответов\n",
    "explanation_correct = explanation['answered_correctly'].value_counts(normalize=True) * 100\n",
    "#Получим среднее время затраченное на ответ\n",
    "explanation_elapsed_time = explanation['prior_question_elapsed_time'].mean()\n",
    "#Для освобождения памяти\n",
    "explanation = 0"
   ]
  },
  {
   "cell_type": "code",
   "execution_count": 13,
   "id": "d6932686-805a-4661-b89f-6ae538a3a0b3",
   "metadata": {},
   "outputs": [
    {
     "name": "stdout",
     "output_type": "stream",
     "text": [
      "Без Объяснения лекции:\n",
      "≈ 49.94% неправильных ответов\n",
      "≈ 50.06% правильных ответов\n",
      "Среднее время затраченное на ответ: 25.59 секунд\n",
      "\n",
      "После объяснения лекции:\n",
      "≈ 32.68% неправильных ответов\n",
      "≈ 67.32% правильных ответов\n",
      "Среднее время затраченное на ответ: 25.41 секунд\n"
     ]
    }
   ],
   "source": [
    "print('Без Объяснения лекции:')\n",
    "print('≈ ', round(explanation_correct[False, 0], 2), '% неправильных ответов', sep='')\n",
    "print('≈ ', round(explanation_correct[False, 1], 2), '% правильных ответов', sep='')\n",
    "print('Среднее время затраченное на ответ:', round(explanation_elapsed_time[False]/1000, 2), 'секунд')\n",
    "print('\\nПосле объяснения лекции:')\n",
    "print('≈ ', round(explanation_correct[True, 0], 2), '% неправильных ответов', sep='')\n",
    "print('≈ ', round(explanation_correct[True, 1], 2), '% правильных ответов', sep='')\n",
    "print('Среднее время затраченное на ответ:', round(explanation_elapsed_time[True]/1000, 2), 'секунд')"
   ]
  },
  {
   "cell_type": "markdown",
   "id": "2d73edee-6a01-40cd-a897-b22927c2b282",
   "metadata": {},
   "source": [
    "На основе проделланого анализаможно сделать вывод, что успеваемость улучшается после объяснения лекции, но среднее затраченное время на ответ не меняется.\n",
    "<hr>\n",
    "Проанализируем как время обучения влияет на правильные ответы"
   ]
  },
  {
   "cell_type": "code",
   "execution_count": 14,
   "id": "f4d9edc1-04f4-4dde-8dd4-541c8fbc7bc1",
   "metadata": {},
   "outputs": [
    {
     "name": "stdout",
     "output_type": "stream",
     "text": [
      "Кванитиль 1/10. Доля правильных ответов = 51.73\n",
      "Кванитиль 2/10. Доля правильных ответов = 58.64\n",
      "Кванитиль 3/10. Доля правильных ответов = 61.21\n",
      "Кванитиль 4/10. Доля правильных ответов = 62.62\n",
      "Кванитиль 5/10. Доля правильных ответов = 63.6\n",
      "Кванитиль 6/10. Доля правильных ответов = 64.3\n",
      "Кванитиль 7/10. Доля правильных ответов = 64.8\n",
      "Кванитиль 8/10. Доля правильных ответов = 65.16\n",
      "Кванитиль 9/10. Доля правильных ответов = 65.47\n",
      "Кванитиль 10/10. Доля правильных ответов = 65.71\n"
     ]
    }
   ],
   "source": [
    "#Разделим периоды обучения на 10 квантилей\n",
    "last_qt = 0\n",
    "for quant in range(1, 11):\n",
    "    #Для каждого квантиля определим долю правильных ответов\n",
    "    ts_qt = train['timestamp'].quantile(quant/10)\n",
    "    answer_qt = train[\n",
    "        (train['timestamp'] > last_qt) &\n",
    "        (train['timestamp'] <= int(ts_qt)) &\n",
    "        #Из answered_correctly исключим -1, так как это лекция и не имеет отношения к ответам\n",
    "        (train['answered_correctly'] != -1)\n",
    "    ]['answered_correctly'].value_counts(normalize=True) * 100\n",
    "    print('Кванитиль ', quant, '/10. Доля правильных ответов = ', round(answer_qt[1], 2), sep='' )"
   ]
  },
  {
   "cell_type": "markdown",
   "id": "d5c090f8-d806-499e-ad30-672634f1fae9",
   "metadata": {},
   "source": [
    "На основе проделланого анализа можно сделать вывод, что с увеличением продолжительности обучения, ростет доля правильных ответов\n",
    "<hr>\n",
    "Выполним анализ вопросов"
   ]
  },
  {
   "cell_type": "code",
   "execution_count": 109,
   "id": "08fa5918-34d4-4de2-82c4-dc3734ea9aff",
   "metadata": {
    "scrolled": true
   },
   "outputs": [],
   "source": [
    "#Объеденим train DataFrame и question DataFrame\n",
    "train_question = pd.merge(train[train['content_type_id'] == 0], questions, left_on='content_id', right_on='question_id')"
   ]
  },
  {
   "cell_type": "code",
   "execution_count": 110,
   "id": "49ecbf97-050f-40ae-a552-460e499d016e",
   "metadata": {},
   "outputs": [],
   "source": [
    "#Получим доли правильных ответов в группавх\n",
    "tag_answers =train_question.groupby('tags')['answered_correctly'].value_counts(normalize=True) * 100"
   ]
  },
  {
   "cell_type": "code",
   "execution_count": 111,
   "id": "ffbd4e44-a2be-4382-bbe7-dcf912a5409f",
   "metadata": {},
   "outputs": [
    {
     "name": "stdout",
     "output_type": "stream",
     "text": [
      "Группа вопросов с наибольшим количеством правильных ответов: 98 84 76 135\n",
      "Группа вопросов с наибольшим количеством ошибочных ответов: 118 42 21 162\n"
     ]
    }
   ],
   "source": [
    "#Разложим ответ на словари с правильными и неправильными ответами\n",
    "positive_dict = tag_answers[:,1].to_dict()\n",
    "negative_dict = tag_answers[:,0].to_dict()\n",
    "\n",
    "print('Группа вопросов с наибольшим количеством правильных ответов:', max(positive_dict, key=positive_dict.get))\n",
    "print('Группа вопросов с наибольшим количеством ошибочных ответов:', max(negative_dict, key=negative_dict.get))\n",
    "\n",
    "#Для экономии памяти удаляем объекты\n",
    "del tag_answers\n",
    "del train_question"
   ]
  },
  {
   "cell_type": "markdown",
   "id": "06760ee4-5b0c-4d5c-9e0a-520c46a6e7c4",
   "metadata": {},
   "source": [
    "На основе проделанного анализа можно сделать вывод, что самая простая (усваеваемая) тема для вопросов находится под тэгом 98 84 76 135, а самая сложная (не усваеваемая) под тэгом 118 42 21 162\n",
    "<hr>\n",
    "Выполним анализ лекций"
   ]
  },
  {
   "cell_type": "code",
   "execution_count": 112,
   "id": "eb41b123-90d9-410b-a552-314434c074dd",
   "metadata": {},
   "outputs": [],
   "source": [
    "#Объеденим train DataFrame и lectures DataFrame\n",
    "train_lectures = pd.merge(train[train['content_type_id'] == 1], lectures, left_on='content_id', right_on='lecture_id')"
   ]
  },
  {
   "cell_type": "code",
   "execution_count": 125,
   "id": "3ac68363-bb29-458f-9404-583e63a9bccd",
   "metadata": {},
   "outputs": [
    {
     "name": "stdout",
     "output_type": "stream",
     "text": [
      "Самая посещаемая лекция: 62\n",
      "Самая менее посещаемая лекция: 137\n"
     ]
    }
   ],
   "source": [
    "#Получим частотынй анализ просмотра лекций\n",
    "lectures_value = train_lectures['tag'].value_counts(normalize=True) * 100\n",
    "lectures_dict = lectures_value.to_dict()\n",
    "\n",
    "print('Самая посещаемая лекция:', max(lectures_dict, key=lectures_dict.get))\n",
    "print('Самая менее посещаемая лекция:', min(lectures_dict, key=lectures_dict.get))"
   ]
  },
  {
   "cell_type": "code",
   "execution_count": 132,
   "id": "9e0061aa-b1b9-44da-9303-2cf8c2e8ed6b",
   "metadata": {},
   "outputs": [
    {
     "data": {
      "text/html": [
       "<div>\n",
       "<style scoped>\n",
       "    .dataframe tbody tr th:only-of-type {\n",
       "        vertical-align: middle;\n",
       "    }\n",
       "\n",
       "    .dataframe tbody tr th {\n",
       "        vertical-align: top;\n",
       "    }\n",
       "\n",
       "    .dataframe thead th {\n",
       "        text-align: right;\n",
       "    }\n",
       "</style>\n",
       "<table border=\"1\" class=\"dataframe\">\n",
       "  <thead>\n",
       "    <tr style=\"text-align: right;\">\n",
       "      <th></th>\n",
       "      <th>lecture_id</th>\n",
       "      <th>tag</th>\n",
       "      <th>part</th>\n",
       "      <th>type_of</th>\n",
       "    </tr>\n",
       "  </thead>\n",
       "  <tbody>\n",
       "    <tr>\n",
       "      <th>38</th>\n",
       "      <td>3153</td>\n",
       "      <td>62</td>\n",
       "      <td>2</td>\n",
       "      <td>intention</td>\n",
       "    </tr>\n",
       "    <tr>\n",
       "      <th>93</th>\n",
       "      <td>8288</td>\n",
       "      <td>62</td>\n",
       "      <td>2</td>\n",
       "      <td>solving question</td>\n",
       "    </tr>\n",
       "    <tr>\n",
       "      <th>103</th>\n",
       "      <td>8976</td>\n",
       "      <td>62</td>\n",
       "      <td>2</td>\n",
       "      <td>intention</td>\n",
       "    </tr>\n",
       "    <tr>\n",
       "      <th>117</th>\n",
       "      <td>10040</td>\n",
       "      <td>62</td>\n",
       "      <td>2</td>\n",
       "      <td>solving question</td>\n",
       "    </tr>\n",
       "    <tr>\n",
       "      <th>178</th>\n",
       "      <td>14654</td>\n",
       "      <td>62</td>\n",
       "      <td>2</td>\n",
       "      <td>solving question</td>\n",
       "    </tr>\n",
       "    <tr>\n",
       "      <th>203</th>\n",
       "      <td>16773</td>\n",
       "      <td>62</td>\n",
       "      <td>2</td>\n",
       "      <td>solving question</td>\n",
       "    </tr>\n",
       "  </tbody>\n",
       "</table>\n",
       "</div>"
      ],
      "text/plain": [
       "     lecture_id  tag  part           type_of\n",
       "38         3153   62     2         intention\n",
       "93         8288   62     2  solving question\n",
       "103        8976   62     2         intention\n",
       "117       10040   62     2  solving question\n",
       "178       14654   62     2  solving question\n",
       "203       16773   62     2  solving question"
      ]
     },
     "execution_count": 132,
     "metadata": {},
     "output_type": "execute_result"
    }
   ],
   "source": [
    "lectures[lectures['tag'] == 62]"
   ]
  }
 ],
 "metadata": {
  "kernelspec": {
   "display_name": "Python 3 (ipykernel)",
   "language": "python",
   "name": "python3"
  },
  "language_info": {
   "codemirror_mode": {
    "name": "ipython",
    "version": 3
   },
   "file_extension": ".py",
   "mimetype": "text/x-python",
   "name": "python",
   "nbconvert_exporter": "python",
   "pygments_lexer": "ipython3",
   "version": "3.12.4"
  }
 },
 "nbformat": 4,
 "nbformat_minor": 5
}
